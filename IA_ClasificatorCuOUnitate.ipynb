{
 "cells": [
  {
   "cell_type": "code",
   "execution_count": 3,
   "id": "a63e8e0c",
   "metadata": {},
   "outputs": [
    {
     "name": "stdout",
     "output_type": "stream",
     "text": [
      "[2 1 2]\n",
      "[ 1 -1  4]\n",
      "Produsul scalar al vectorilor x si y este:  9\n",
      "Norma vectorului x este:  3.0\n",
      "Norma vectorului y este:  4.242640687119285\n",
      "Cosinusul unghiului dintre vectorii x si y este:  0.7071067811865476\n"
     ]
    }
   ],
   "source": [
    "#1\n",
    "\n",
    "import numpy as np\n",
    "x = [2,1,2]\n",
    "y = [1,-1,4]\n",
    "x = np.array(x)\n",
    "y = np.array(y)\n",
    "print(x)\n",
    "print(y)\n",
    "prodsc = np.dot(x,y)\n",
    "print('Produsul scalar al vectorilor x si y este: ', prodsc)\n",
    "\n",
    "from numpy import array\n",
    "from numpy.linalg import norm\n",
    "xnorm = norm(x)\n",
    "print(\"Norma vectorului x este: \", xnorm)\n",
    "ynorm = norm(y)\n",
    "print(\"Norma vectorului y este: \", ynorm)\n",
    "\n",
    "cos = prodsc/(xnorm*ynorm)\n",
    "print(\"Cosinusul unghiului dintre vectorii x si y este: \", cos)\n",
    "\n",
    "\n"
   ]
  },
  {
   "cell_type": "code",
   "execution_count": 2,
   "id": "a773aad7",
   "metadata": {},
   "outputs": [
    {
     "name": "stdout",
     "output_type": "stream",
     "text": [
      "Punctul  [-1, -1, -1] este in clasa 2\n",
      "Punctul  [-1, -1, 1] este in clasa 2\n",
      "Punctul  [-1, 1, -1] este in clasa 2\n",
      "Punctul  [-1, 1, 1] este in clasa 1\n",
      "Punctul  [1, -1, -1] este in clasa 2\n",
      "Punctul  [1, -1, 1] este in clasa 1\n",
      "Punctul  [1, 1, -1] este in clasa 1\n",
      "Punctul  [1, 1, 1] este in clasa 1\n"
     ]
    }
   ],
   "source": [
    "#2 clasificatorul cu o singura unitate\n",
    "P0 = [-1,-1,-1]\n",
    "P1 = [-1,-1,1]\n",
    "P2 = [-1,1,-1]\n",
    "P3 = [-1,1,1]\n",
    "P4 = [1,-1,-1]\n",
    "P5 = [1,-1,1]\n",
    "P6 = [1,1,-1]\n",
    "P7 = [1,1,1]\n",
    "\n",
    "list = []\n",
    "list.append(P0)\n",
    "list.append(P1)\n",
    "list.append(P2)\n",
    "list.append(P3)\n",
    "list.append(P4)\n",
    "list.append(P5)\n",
    "list.append(P6)\n",
    "list.append(P7)\n",
    "\n",
    "import numpy as np\n",
    "   \n",
    "for i in range(len(list)):\n",
    "    for j in range(3):\n",
    "        sum = np.sum(list[i])\n",
    "    \n",
    "    x = np.sign(sum) #suma coord fiecarui pc\n",
    "    #print(x)\n",
    "    if x == 1:\n",
    "        print(\"Punctul \", list[i], \"este in clasa 1\")\n",
    "    else:\n",
    "        print(\"Punctul \", list[i], \"este in clasa 2\")\n",
    "    \n",
    "    \n",
    "    \n",
    "    "
   ]
  },
  {
   "cell_type": "code",
   "execution_count": 12,
   "id": "6e5090f7",
   "metadata": {},
   "outputs": [
    {
     "name": "stdout",
     "output_type": "stream",
     "text": [
      "Iesirea stabila a punctului [-1, -1, -1] este: [1, 1, -1]\n",
      "Iesirea stabila a punctului [-1, -1, 1] este: [-1, -1, 1]\n",
      "Iesirea stabila a punctului [-1, 1, -1] este: [1, 1, -1]\n",
      "Iesirea stabila a punctului [-1, 1, 1] este: [-1, -1, 1]\n",
      "Iesirea stabila a punctului [1, -1, -1] este: [1, 1, -1]\n",
      "Iesirea stabila a punctului [1, -1, 1] este: [1, 1, -1]\n",
      "Iesirea stabila a punctului [1, 1, -1] este: [1, 1, -1]\n",
      "Iesirea stabila a punctului [1, 1, 1] este: [1, 1, -1]\n"
     ]
    }
   ],
   "source": [
    "#3 \n",
    "P0 = [-1,-1,-1]\n",
    "P1 = [-1,-1,1]\n",
    "P2 = [-1,1,-1]\n",
    "P3 = [-1,1,1]\n",
    "P4 = [1,-1,-1]\n",
    "P5 = [1,-1,1]\n",
    "P6 = [1,1,-1]\n",
    "P7 = [1,1,1]\n",
    "\n",
    "def sgn(x):\n",
    "    if x >= 0 :\n",
    "        sgn = 1\n",
    "    elif x < 0:\n",
    "        sgn = -1\n",
    "    return sgn\n",
    "\n",
    "\n",
    "def myfunc(P):\n",
    "    o=[]\n",
    "    aux = [0,0,0]\n",
    "    for i in P:\n",
    "        o.append(i)\n",
    "    \n",
    "    i = 0\n",
    "    while i == 0 : \n",
    "        aux[0] = sgn(o[1] - o[2])\n",
    "        aux[1] = sgn(o[0] - o[2])\n",
    "        aux[2] = sgn(-o[0] - o[1])\n",
    "        \n",
    "        if aux != o :\n",
    "            o = aux\n",
    "        else:\n",
    "            i = 1\n",
    "            \n",
    "    print(\"Iesirea stabila a punctului\", P, \"este:\",aux)\n",
    "\n",
    "    \n",
    "myfunc(P0)\n",
    "myfunc(P1)\n",
    "myfunc(P2)\n",
    "myfunc(P3)\n",
    "myfunc(P4)\n",
    "myfunc(P5)\n",
    "myfunc(P6)\n",
    "myfunc(P7)\n"
   ]
  },
  {
   "cell_type": "code",
   "execution_count": null,
   "id": "a36cc450",
   "metadata": {},
   "outputs": [],
   "source": []
  },
  {
   "cell_type": "code",
   "execution_count": null,
   "id": "17922036",
   "metadata": {},
   "outputs": [],
   "source": []
  },
  {
   "cell_type": "code",
   "execution_count": null,
   "id": "f7167f37",
   "metadata": {},
   "outputs": [],
   "source": []
  }
 ],
 "metadata": {
  "kernelspec": {
   "display_name": "Python 3",
   "language": "python",
   "name": "python3"
  },
  "language_info": {
   "codemirror_mode": {
    "name": "ipython",
    "version": 3
   },
   "file_extension": ".py",
   "mimetype": "text/x-python",
   "name": "python",
   "nbconvert_exporter": "python",
   "pygments_lexer": "ipython3",
   "version": "3.8.8"
  }
 },
 "nbformat": 4,
 "nbformat_minor": 5
}
